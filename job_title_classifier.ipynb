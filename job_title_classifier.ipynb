{
  "nbformat": 4,
  "nbformat_minor": 0,
  "metadata": {
    "colab": {
      "name": "job-title-classifier.ipynb",
      "provenance": [],
      "collapsed_sections": [],
      "include_colab_link": true
    },
    "kernelspec": {
      "name": "python3",
      "display_name": "Python 3"
    },
    "accelerator": "GPU"
  },
  "cells": [
    {
      "cell_type": "markdown",
      "metadata": {
        "id": "view-in-github",
        "colab_type": "text"
      },
      "source": [
        "<a href=\"https://colab.research.google.com/github/usamaeltmsah/Job-Title-Classifier/blob/master/job_title_classifier.ipynb\" target=\"_parent\"><img src=\"https://colab.research.google.com/assets/colab-badge.svg\" alt=\"Open In Colab\"/></a>"
      ]
    },
    {
      "cell_type": "code",
      "metadata": {
        "id": "AFwzKmIgjbrp",
        "colab_type": "code",
        "colab": {}
      },
      "source": [
        "%%capture\n",
        "# Install the latest Tensorflow version.sentence\n",
        "!pip3 install --upgrade tensorflow-gpu\n",
        "# Install TF-Hub.\n",
        "!pip3 install tensorflow-hub\n",
        "!pip3 install seaborn"
      ],
      "execution_count": 0,
      "outputs": []
    },
    {
      "cell_type": "code",
      "metadata": {
        "id": "_4tHevHNEEHG",
        "colab_type": "code",
        "colab": {}
      },
      "source": [
        "#@title Load the Universal Sentence Encoder's TF Hub module\n",
        "from absl import logging\n",
        "import tensorflow as tf\n",
        "import tensorflow_hub as hub\n",
        "import matplotlib.pyplot as plt\n",
        "import numpy as np\n",
        "import os\n",
        "import pandas as pd\n",
        "import re\n",
        "import seaborn as sns\n",
        "\n",
        "module_url = \"https://tfhub.dev/google/universal-sentence-encoder-large/5\" #@param [\"https://tfhub.dev/google/universal-sentence-encoder/4\", \"https://tfhub.dev/google/universal-sentence-encoder-large/5\"]\n",
        "model = hub.load(module_url)\n",
        "print (\"module %s loaded\" % module_url)"
      ],
      "execution_count": 0,
      "outputs": []
    },
    {
      "cell_type": "markdown",
      "metadata": {
        "id": "cIGeiMU1KALo",
        "colab_type": "text"
      },
      "source": [
        "## Mounting Google Drive locally"
      ]
    },
    {
      "cell_type": "code",
      "metadata": {
        "id": "MxEYvPqlJ8-y",
        "colab_type": "code",
        "colab": {}
      },
      "source": [
        "from google.colab import drive\n",
        "drive.mount('/content/drive')"
      ],
      "execution_count": 0,
      "outputs": []
    },
    {
      "cell_type": "markdown",
      "metadata": {
        "id": "1xLKeht7KO-M",
        "colab_type": "text"
      },
      "source": [
        ""
      ]
    },
    {
      "cell_type": "code",
      "metadata": {
        "id": "comzy3QTF9Wy",
        "colab_type": "code",
        "colab": {}
      },
      "source": [
        "# Read all the descriptions from csv file\n",
        "def read_dataset(file_path):\n",
        "  names = ['Date', 'Last Update', 'Job Title', 'Job Description']\n",
        "  data = pd.read_csv(file_path, names = names, header=0)\n",
        "  return data"
      ],
      "execution_count": 0,
      "outputs": []
    },
    {
      "cell_type": "markdown",
      "metadata": {
        "id": "Dr_sJw71UwnA",
        "colab_type": "text"
      },
      "source": [
        "## Remove punctuations"
      ]
    },
    {
      "cell_type": "code",
      "metadata": {
        "id": "RyjvC1eohKjN",
        "colab_type": "code",
        "colab": {}
      },
      "source": [
        "def rem_punc_from_text(text):\n",
        "  return re.sub(r'[^\\w\\s]','',text)"
      ],
      "execution_count": 0,
      "outputs": []
    },
    {
      "cell_type": "code",
      "metadata": {
        "id": "zDQOirU-U0a5",
        "colab_type": "code",
        "colab": {}
      },
      "source": [
        "def rem_punc(data):\n",
        "  return data.str.replace('[^\\w\\s]','')"
      ],
      "execution_count": 0,
      "outputs": []
    },
    {
      "cell_type": "markdown",
      "metadata": {
        "id": "HvbOrPVISQ20",
        "colab_type": "text"
      },
      "source": [
        "## Removing Stop Words"
      ]
    },
    {
      "cell_type": "code",
      "metadata": {
        "id": "2qgOJDtHW5p7",
        "colab_type": "code",
        "colab": {}
      },
      "source": [
        "import nltk\n",
        "nltk.download(\"stopwords\")\n",
        "from nltk.corpus import stopwords\n",
        "stop = stopwords.words('english')"
      ],
      "execution_count": 0,
      "outputs": []
    },
    {
      "cell_type": "code",
      "metadata": {
        "id": "KwjAd8IWSSIj",
        "colab_type": "code",
        "colab": {}
      },
      "source": [
        "def rem_stop_words(data):\n",
        "  return data.apply(lambda x: \" \".join(x for x in x.split() if x not in stop))"
      ],
      "execution_count": 0,
      "outputs": []
    },
    {
      "cell_type": "code",
      "metadata": {
        "id": "U-jB9Ve4WGaG",
        "colab_type": "code",
        "colab": {}
      },
      "source": [
        "def rem_stop_words_from_text(text):\n",
        "  return \" \".join(text for text in text.split() if text not in stop)"
      ],
      "execution_count": 0,
      "outputs": []
    },
    {
      "cell_type": "code",
      "metadata": {
        "id": "qmPpydK0hh2s",
        "colab_type": "code",
        "colab": {}
      },
      "source": [
        "def count_words(sentence):\n",
        "  return len(re.findall(r'\\w+', sentence))"
      ],
      "execution_count": 0,
      "outputs": []
    },
    {
      "cell_type": "code",
      "metadata": {
        "id": "SJ3eOMSRScpP",
        "colab_type": "code",
        "colab": {}
      },
      "source": [
        "def compare_strings_lengths(s1, s2):\n",
        "  return count_words(s1) - count_words(s2)"
      ],
      "execution_count": 0,
      "outputs": []
    },
    {
      "cell_type": "code",
      "metadata": {
        "id": "9exaOkysAFDp",
        "colab_type": "code",
        "colab": {}
      },
      "source": [
        "# Return the index of the larger (according two n words) sentence\n",
        "# If s1 > s2 Return 0 Else return 1\n",
        "def which_larger(s1, s2):\n",
        "  return 0 if count_words(s1) > count_words(s2) else 1"
      ],
      "execution_count": 0,
      "outputs": []
    },
    {
      "cell_type": "code",
      "metadata": {
        "id": "-2CA9kQFFbLJ",
        "colab_type": "code",
        "colab": {}
      },
      "source": [
        "def embed(input):\n",
        "  return model(input)"
      ],
      "execution_count": 0,
      "outputs": []
    },
    {
      "cell_type": "code",
      "metadata": {
        "id": "y20FAQFoEGa2",
        "colab_type": "code",
        "colab": {}
      },
      "source": [
        "# Correlation matrix\n",
        "def calc_corr(features):\n",
        "  corr = np.inner(features, features)\n",
        "  return corr"
      ],
      "execution_count": 0,
      "outputs": []
    },
    {
      "cell_type": "code",
      "metadata": {
        "id": "kDh_QckIEM8r",
        "colab_type": "code",
        "colab": {}
      },
      "source": [
        "def sentence_embedding(sentences_):\n",
        "  sentence_embeddings_ = embed(sentences_)\n",
        "  return sentence_embeddings_"
      ],
      "execution_count": 0,
      "outputs": []
    },
    {
      "cell_type": "code",
      "metadata": {
        "id": "ixkT8GcGErz1",
        "colab_type": "code",
        "colab": {}
      },
      "source": [
        "def evaluate_answer(answers, applicant_answer):\n",
        "  answers.append(applicant_answer)\n",
        "\n",
        "  sentence_embeddings_ = sentence_embedding(answers)\n",
        "\n",
        "  corr = calc_corr(sentence_embeddings_)\n",
        "  return get_best_score(corr)"
      ],
      "execution_count": 0,
      "outputs": []
    },
    {
      "cell_type": "code",
      "metadata": {
        "id": "EC1pSrNvZSsw",
        "colab_type": "code",
        "colab": {}
      },
      "source": [
        "def evaluate_text(descriptions_embed, in_desc_embed):\n",
        "  descriptions_embed.append(in_desc_embed)\n",
        "  # corr = calc_corr(descriptions_embed)\n",
        "  # return get_best_score(corr)\n",
        "  # return corr"
      ],
      "execution_count": 0,
      "outputs": []
    },
    {
      "cell_type": "code",
      "metadata": {
        "id": "nB1Y9ejYEwPp",
        "colab_type": "code",
        "colab": {}
      },
      "source": [
        "# @Param corr: the similarity matrix between all the texts\n",
        "# The last is the applicant answer\n",
        "def get_best_score(corr):\n",
        "  length = len(corr)\n",
        "  in_description_corr = corr[length -1]\n",
        "  in_description_corr = np.delete(in_description_corr, -1)\n",
        "  return max(in_description_corr)"
      ],
      "execution_count": 0,
      "outputs": []
    },
    {
      "cell_type": "markdown",
      "metadata": {
        "id": "dGt1YS7gan3h",
        "colab_type": "text"
      },
      "source": [
        "## Clean All data"
      ]
    },
    {
      "cell_type": "code",
      "metadata": {
        "id": "5NiDLMv7aq0Y",
        "colab_type": "code",
        "colab": {}
      },
      "source": [
        "def clean_descriptions(descriptions):\n",
        "  if(isinstance(descriptions, pd.core.frame.DataFrame)):\n",
        "    descriptions = rem_stop_words(data['Job Description']) # Remove stop-words from the description\n",
        "    descriptions = rem_punc(descriptions) # Remove the punctuations\n",
        "  elif(isinstance(descriptions, str)):\n",
        "    descriptions = rem_stop_words_from_text(descriptions)\n",
        "    descriptions = rem_punc_from_text(descriptions)\n",
        "  else:\n",
        "    print(\"Check Datatype can't be: \", type(descriptions))\n",
        "    return\n",
        "  return descriptions"
      ],
      "execution_count": 0,
      "outputs": []
    },
    {
      "cell_type": "markdown",
      "metadata": {
        "id": "x4FlD7oHRnvL",
        "colab_type": "text"
      },
      "source": [
        "## Make N-grams"
      ]
    },
    {
      "cell_type": "code",
      "metadata": {
        "id": "xSqKhYVWPWmp",
        "colab_type": "code",
        "colab": {}
      },
      "source": [
        "# Import Library for ngrams\n",
        "from textblob import TextBlob\n",
        "nltk.download('punkt')"
      ],
      "execution_count": 0,
      "outputs": []
    },
    {
      "cell_type": "code",
      "metadata": {
        "id": "K4kDIFyiKyS7",
        "colab_type": "code",
        "colab": {}
      },
      "source": [
        "def ngrams(text, n):\n",
        "  ngrams_word_lists_to_list = []\n",
        "  ngrams = TextBlob(text).ngrams(n)\n",
        "  for ngram in ngrams:\n",
        "    ngrams_word_lists_to_list.append(' '.join(word for word in ngram))\n",
        "  return ngrams_word_lists_to_list"
      ],
      "execution_count": 0,
      "outputs": []
    },
    {
      "cell_type": "code",
      "metadata": {
        "id": "1BsavAh9WVzI",
        "colab_type": "code",
        "colab": {}
      },
      "source": [
        "# Calculate the average for list of integers\n",
        "def average(lst):\n",
        "  # print(lst)\n",
        "  return sum(lst) / len(lst)"
      ],
      "execution_count": 0,
      "outputs": []
    },
    {
      "cell_type": "code",
      "metadata": {
        "id": "dkP9pD7jRtAl",
        "colab_type": "code",
        "colab": {}
      },
      "source": [
        "from random import randint\n",
        "def calc_n_dynamic_ngram(descriptions, in_description):\n",
        "  length = len(descriptions)\n",
        "  diff = []\n",
        "  for i in range(5):\n",
        "    j = randint(0, length-1)\n",
        "    # if which_larger(descriptions[j], in_description) == 1:\n",
        "    #   continue\n",
        "    diff.append(compare_strings_lengths(descriptions[j], in_description))\n",
        "  # if len(diff) == 3:\n",
        "  #   print(\"To big sentence!\")\n",
        "  #   return False\n",
        "  avg = int(abs(average(diff)))\n",
        "\n",
        "  return randint(2, avg)"
      ],
      "execution_count": 0,
      "outputs": []
    },
    {
      "cell_type": "code",
      "metadata": {
        "id": "HrfaIF51aMAT",
        "colab_type": "code",
        "colab": {}
      },
      "source": [
        "def dynamic_ngram(descriptions, in_description):\n",
        "  # n = calc_n_dynamic_ngram(descriptions, in_description)\n",
        "  n = 3\n",
        "  descriptions_grams = [ngrams(description, n) for description in descriptions]\n",
        "  in_description_ngram = ngrams(in_description, n)\n",
        "\n",
        "  return descriptions_grams, in_description_ngram"
      ],
      "execution_count": 0,
      "outputs": []
    },
    {
      "cell_type": "code",
      "metadata": {
        "id": "mvLj69Tfcqc_",
        "colab_type": "code",
        "colab": {}
      },
      "source": [
        "def classify(all_ngrams, job_titles):\n",
        "  evaluations = []\n",
        "  for description_ngram in all_ngrams[0]:\n",
        "    evaluation_ = []\n",
        "    for in_description_ngram in all_ngrams[1]:\n",
        "      evaluation_.append(evaluate_answer(description_ngram, in_description_ngram))\n",
        "    if len(evaluation_) > 0:\n",
        "      evaluations.append(average(evaluation_))\n",
        "    else:\n",
        "      evaluations.append(0)\n",
        "      \n",
        "  ind = evaluations.index(max(evaluations))\n",
        "  return evaluations.index(max(evaluations)), job_titles[ind]"
      ],
      "execution_count": 0,
      "outputs": []
    },
    {
      "cell_type": "code",
      "metadata": {
        "id": "C_x5bbEqIxkD",
        "colab_type": "code",
        "colab": {}
      },
      "source": [
        "def save_model(model, filename='/content/drive/My Drive/Colab Notebooks/occupations_dataset/finalized_model.sav'):\n",
        "  import pickle\n",
        "  pickle.dump(model, open(filename, 'wb'))"
      ],
      "execution_count": 0,
      "outputs": []
    },
    {
      "cell_type": "code",
      "metadata": {
        "id": "ttOvwaRTJK0Y",
        "colab_type": "code",
        "colab": {}
      },
      "source": [
        "def load_model(filename='/content/drive/My Drive/Colab Notebooks/occupations_dataset/finalized_model.sav'):\n",
        "  import pickle\n",
        "  return pickle.load(open(filename, 'rb'))"
      ],
      "execution_count": 0,
      "outputs": []
    },
    {
      "cell_type": "code",
      "metadata": {
        "id": "RFdw_0w0Ex-R",
        "colab_type": "code",
        "colab": {}
      },
      "source": [
        "descriptions = []\n",
        "in_description = input(\"Enter the description: \")\n",
        "\n",
        "# print(evaluate_answer(descriptions, in_description))"
      ],
      "execution_count": 0,
      "outputs": []
    },
    {
      "cell_type": "code",
      "metadata": {
        "id": "qNMFsLTYEz6x",
        "colab_type": "code",
        "colab": {}
      },
      "source": [
        "occup_file = \"/content/drive/My Drive/Colab Notebooks/occupations_dataset/npo_occupations.csv\"\n",
        "data = read_dataset(occup_file)\n",
        "descriptions = clean_descriptions(data)\n",
        "in_description = clean_descriptions(in_description)\n",
        "# descriptions = data.iloc[:,3]\n",
        "descriptions = descriptions.values.tolist()"
      ],
      "execution_count": 0,
      "outputs": []
    },
    {
      "cell_type": "code",
      "metadata": {
        "id": "VrT9PvVrSNuf",
        "colab_type": "code",
        "colab": {}
      },
      "source": [
        "all_ngrams = dynamic_ngram(descriptions, in_description)"
      ],
      "execution_count": 0,
      "outputs": []
    },
    {
      "cell_type": "code",
      "metadata": {
        "id": "QuuOUj0e80te",
        "colab_type": "code",
        "colab": {}
      },
      "source": [
        ""
      ],
      "execution_count": 0,
      "outputs": []
    },
    {
      "cell_type": "code",
      "metadata": {
        "id": "4jrl6zplY0eH",
        "colab_type": "code",
        "colab": {}
      },
      "source": [
        "# all_ngrams = load_model()"
      ],
      "execution_count": 0,
      "outputs": []
    },
    {
      "cell_type": "code",
      "metadata": {
        "id": "c-_yzdU1bnJr",
        "colab_type": "code",
        "outputId": "6fdabc4f-a670-45d4-9f58-0a3bc3ee2be1",
        "colab": {
          "base_uri": "https://localhost:8080/",
          "height": 34
        }
      },
      "source": [
        "classify(all_ngrams, data['Job Title'])"
      ],
      "execution_count": 0,
      "outputs": [
        {
          "output_type": "execute_result",
          "data": {
            "text/plain": [
              "(237, 'Administrative Law Judges, Adjudicators, and Hearing Officers ')"
            ]
          },
          "metadata": {
            "tags": []
          },
          "execution_count": 33
        }
      ]
    },
    {
      "cell_type": "code",
      "metadata": {
        "id": "RIti02zrSBRp",
        "colab_type": "code",
        "colab": {}
      },
      "source": [
        "def main():\n",
        "  # descriptions = []\n",
        "  # in_description = input(\"Enter the description: \")\n",
        "\n",
        "  # occup_file = \"/content/drive/My Drive/Colab Notebooks/occupations_dataset/npo_occupations.csv\"\n",
        "  # data = read_dataset(occup_file)\n",
        "  # descriptions = clean_descriptions(data)\n",
        "  # in_description = clean_descriptions(in_description)\n",
        "  # # descriptions = data.iloc[:,3]\n",
        "  # descriptions = descriptions.values.tolist()\n",
        "  all_ngrams = dynamic_ngram(descriptions, in_description)\n",
        "  predicted_job = classify(all_ngrams, data['Job Title'])"
      ],
      "execution_count": 0,
      "outputs": []
    },
    {
      "cell_type": "code",
      "metadata": {
        "id": "33x2aMAnOytI",
        "colab_type": "code",
        "colab": {}
      },
      "source": [
        "if __name__ == \"__main__\":\n",
        "  main()"
      ],
      "execution_count": 0,
      "outputs": []
    },
    {
      "cell_type": "code",
      "metadata": {
        "id": "NDrwGsGOQakH",
        "colab_type": "code",
        "colab": {}
      },
      "source": [
        "n = 3\n",
        "desc_ngrams = [ngrams(desc, n) for desc in descriptions]"
      ],
      "execution_count": 0,
      "outputs": []
    },
    {
      "cell_type": "code",
      "metadata": {
        "id": "0GuNbmaFZmDJ",
        "colab_type": "code",
        "colab": {}
      },
      "source": [
        "desc_embeddings = [sentence_embedding(desc_ngram) for desc_ngram in desc_ngrams]\n",
        "in_desc_embed = sentence_embedding([in_description])"
      ],
      "execution_count": 0,
      "outputs": []
    },
    {
      "cell_type": "code",
      "metadata": {
        "id": "5PsZuMXha9YN",
        "colab_type": "code",
        "colab": {}
      },
      "source": [
        "evaluate_text(desc_embeddings, in_desc_embed[0])"
      ],
      "execution_count": 0,
      "outputs": []
    },
    {
      "cell_type": "code",
      "metadata": {
        "id": "iDKzBhOfbJWY",
        "colab_type": "code",
        "colab": {}
      },
      "source": [
        "in_desc_embed[0]"
      ],
      "execution_count": 0,
      "outputs": []
    },
    {
      "cell_type": "code",
      "metadata": {
        "id": "gjsHRuoicqtu",
        "colab_type": "code",
        "colab": {}
      },
      "source": [
        "# Text => Embedd. \n",
        "# Ex:- computer scientists deal mostly with software and software systems\n",
        "# [...] ---> is the embedding, sometimes it's array([...])\n",
        "# 2D_Embedd_Dict = {\"computer scientists\": [...], \"scientists deal\": [...], \"deal mostly\": [...], ... etc}\n",
        "embeddings_dict = {}\n",
        "txt = \"computer scientists deal mostly with software and software systems\"\n",
        "for ngram in ngrams(txt, 5):\n",
        "  embeddings_dict[ngram] = embed([ngram])"
      ],
      "execution_count": 0,
      "outputs": []
    },
    {
      "cell_type": "code",
      "metadata": {
        "id": "-IMf8gUlsd6Z",
        "colab_type": "code",
        "colab": {}
      },
      "source": [
        "descriptions_ngram = {}\n",
        "for desc in descriptions:\n",
        "  for des_ngram in ngrams(desc, 2):\n",
        "    descriptions_ngram[des_ngram] = embed([des_ngram])"
      ],
      "execution_count": 0,
      "outputs": []
    },
    {
      "cell_type": "code",
      "metadata": {
        "id": "NbH7VZU6tnYz",
        "colab_type": "code",
        "colab": {}
      },
      "source": [
        "[*descriptions_ngram]"
      ],
      "execution_count": 0,
      "outputs": []
    },
    {
      "cell_type": "code",
      "metadata": {
        "id": "yg124jzIwOQa",
        "colab_type": "code",
        "colab": {}
      },
      "source": [
        ""
      ],
      "execution_count": 0,
      "outputs": []
    },
    {
      "cell_type": "code",
      "metadata": {
        "id": "e5oyaR4ywOwn",
        "colab_type": "code",
        "colab": {}
      },
      "source": [
        ""
      ],
      "execution_count": 0,
      "outputs": []
    }
  ]
}